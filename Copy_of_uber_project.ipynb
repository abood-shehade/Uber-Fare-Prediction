{
  "cells": [
    {
      "cell_type": "markdown",
      "metadata": {
        "id": "Hq6teESqGIkU"
      },
      "source": [
        "# Importing libraries"
      ]
    },
    {
      "cell_type": "code",
      "execution_count": 1,
      "metadata": {
        "colab": {
          "base_uri": "https://localhost:8080/"
        },
        "id": "wvbgiToOo5w-",
        "outputId": "0a0ab570-3420-4529-fff7-42808b0da687"
      },
      "outputs": [
        {
          "output_type": "stream",
          "name": "stdout",
          "text": [
            "Requirement already satisfied: haversine in /usr/local/lib/python3.10/dist-packages (2.8.0)\n"
          ]
        }
      ],
      "source": [
        "!pip install haversine"
      ]
    },
    {
      "cell_type": "code",
      "execution_count": 2,
      "metadata": {
        "id": "oGXYTTxIEBRu"
      },
      "outputs": [],
      "source": [
        "import numpy as np\n",
        "import pandas as pd\n",
        "import math as m\n",
        "from haversine import haversine, Unit\n",
        "import seaborn as sns\n",
        "import matplotlib.pyplot as plt"
      ]
    },
    {
      "cell_type": "markdown",
      "metadata": {
        "id": "ZMezw66jGOZF"
      },
      "source": [
        "# Data exploration"
      ]
    },
    {
      "cell_type": "code",
      "execution_count": 3,
      "metadata": {
        "id": "Xsk99vt781_2"
      },
      "outputs": [],
      "source": [
        "url='https://github.com/mokhatib123/123123123/raw/main/uber123.csv'"
      ]
    },
    {
      "cell_type": "code",
      "execution_count": 4,
      "metadata": {
        "id": "oY6dWjX9EQkL"
      },
      "outputs": [],
      "source": [
        "df = pd.read_csv(url)"
      ]
    },
    {
      "cell_type": "code",
      "execution_count": 5,
      "metadata": {
        "colab": {
          "base_uri": "https://localhost:8080/"
        },
        "id": "f-oYo3qBEbvu",
        "outputId": "5a7f4ff4-7732-4337-8832-368cce413c96"
      },
      "outputs": [
        {
          "output_type": "stream",
          "name": "stdout",
          "text": [
            "<class 'pandas.core.frame.DataFrame'>\n",
            "RangeIndex: 200000 entries, 0 to 199999\n",
            "Data columns (total 9 columns):\n",
            " #   Column             Non-Null Count   Dtype  \n",
            "---  ------             --------------   -----  \n",
            " 0   Unnamed: 0         200000 non-null  int64  \n",
            " 1   key                200000 non-null  object \n",
            " 2   fare_amount        200000 non-null  float64\n",
            " 3   pickup_datetime    200000 non-null  object \n",
            " 4   pickup_longitude   200000 non-null  float64\n",
            " 5   pickup_latitude    200000 non-null  float64\n",
            " 6   dropoff_longitude  199999 non-null  float64\n",
            " 7   dropoff_latitude   199999 non-null  float64\n",
            " 8   passenger_count    200000 non-null  int64  \n",
            "dtypes: float64(5), int64(2), object(2)\n",
            "memory usage: 13.7+ MB\n"
          ]
        }
      ],
      "source": [
        "df.info()"
      ]
    },
    {
      "cell_type": "code",
      "execution_count": 6,
      "metadata": {
        "colab": {
          "base_uri": "https://localhost:8080/",
          "height": 206
        },
        "id": "PDmHR2sjROv4",
        "outputId": "ee811f2e-7353-4c29-f04e-e5ed1029d759"
      },
      "outputs": [
        {
          "output_type": "execute_result",
          "data": {
            "text/plain": [
              "        Unnamed: 0      key  fare_amount          pickup_datetime  \\\n",
              "20343     51050382  08:00.0          6.9  2010-11-10 18:08:00 UTC   \n",
              "191979    21668246  09:00.0         18.5  2014-05-31 04:09:00 UTC   \n",
              "3020      21357195  36:00.0          5.3  2011-08-31 20:36:00 UTC   \n",
              "151097    38621114  52:05.0          5.5  2015-01-14 20:52:05 UTC   \n",
              "35793     42363509  31:52.0         12.5  2015-03-20 07:31:52 UTC   \n",
              "\n",
              "        pickup_longitude  pickup_latitude  dropoff_longitude  \\\n",
              "20343         -73.977920        40.736715         -73.976542   \n",
              "191979        -73.959797        40.710792         -73.973470   \n",
              "3020          -73.968735        40.770122         -73.956523   \n",
              "151097        -73.980377        40.752628         -73.978012   \n",
              "35793         -73.964416        40.803310         -73.956581   \n",
              "\n",
              "        dropoff_latitude  passenger_count  \n",
              "20343          40.751657                1  \n",
              "191979         40.668672                1  \n",
              "3020           40.783875                1  \n",
              "151097         40.742401                1  \n",
              "35793          40.775661                1  "
            ],
            "text/html": [
              "\n",
              "  <div id=\"df-de8c4013-84a2-49b6-9420-b7f087d119a3\" class=\"colab-df-container\">\n",
              "    <div>\n",
              "<style scoped>\n",
              "    .dataframe tbody tr th:only-of-type {\n",
              "        vertical-align: middle;\n",
              "    }\n",
              "\n",
              "    .dataframe tbody tr th {\n",
              "        vertical-align: top;\n",
              "    }\n",
              "\n",
              "    .dataframe thead th {\n",
              "        text-align: right;\n",
              "    }\n",
              "</style>\n",
              "<table border=\"1\" class=\"dataframe\">\n",
              "  <thead>\n",
              "    <tr style=\"text-align: right;\">\n",
              "      <th></th>\n",
              "      <th>Unnamed: 0</th>\n",
              "      <th>key</th>\n",
              "      <th>fare_amount</th>\n",
              "      <th>pickup_datetime</th>\n",
              "      <th>pickup_longitude</th>\n",
              "      <th>pickup_latitude</th>\n",
              "      <th>dropoff_longitude</th>\n",
              "      <th>dropoff_latitude</th>\n",
              "      <th>passenger_count</th>\n",
              "    </tr>\n",
              "  </thead>\n",
              "  <tbody>\n",
              "    <tr>\n",
              "      <th>20343</th>\n",
              "      <td>51050382</td>\n",
              "      <td>08:00.0</td>\n",
              "      <td>6.9</td>\n",
              "      <td>2010-11-10 18:08:00 UTC</td>\n",
              "      <td>-73.977920</td>\n",
              "      <td>40.736715</td>\n",
              "      <td>-73.976542</td>\n",
              "      <td>40.751657</td>\n",
              "      <td>1</td>\n",
              "    </tr>\n",
              "    <tr>\n",
              "      <th>191979</th>\n",
              "      <td>21668246</td>\n",
              "      <td>09:00.0</td>\n",
              "      <td>18.5</td>\n",
              "      <td>2014-05-31 04:09:00 UTC</td>\n",
              "      <td>-73.959797</td>\n",
              "      <td>40.710792</td>\n",
              "      <td>-73.973470</td>\n",
              "      <td>40.668672</td>\n",
              "      <td>1</td>\n",
              "    </tr>\n",
              "    <tr>\n",
              "      <th>3020</th>\n",
              "      <td>21357195</td>\n",
              "      <td>36:00.0</td>\n",
              "      <td>5.3</td>\n",
              "      <td>2011-08-31 20:36:00 UTC</td>\n",
              "      <td>-73.968735</td>\n",
              "      <td>40.770122</td>\n",
              "      <td>-73.956523</td>\n",
              "      <td>40.783875</td>\n",
              "      <td>1</td>\n",
              "    </tr>\n",
              "    <tr>\n",
              "      <th>151097</th>\n",
              "      <td>38621114</td>\n",
              "      <td>52:05.0</td>\n",
              "      <td>5.5</td>\n",
              "      <td>2015-01-14 20:52:05 UTC</td>\n",
              "      <td>-73.980377</td>\n",
              "      <td>40.752628</td>\n",
              "      <td>-73.978012</td>\n",
              "      <td>40.742401</td>\n",
              "      <td>1</td>\n",
              "    </tr>\n",
              "    <tr>\n",
              "      <th>35793</th>\n",
              "      <td>42363509</td>\n",
              "      <td>31:52.0</td>\n",
              "      <td>12.5</td>\n",
              "      <td>2015-03-20 07:31:52 UTC</td>\n",
              "      <td>-73.964416</td>\n",
              "      <td>40.803310</td>\n",
              "      <td>-73.956581</td>\n",
              "      <td>40.775661</td>\n",
              "      <td>1</td>\n",
              "    </tr>\n",
              "  </tbody>\n",
              "</table>\n",
              "</div>\n",
              "    <div class=\"colab-df-buttons\">\n",
              "\n",
              "  <div class=\"colab-df-container\">\n",
              "    <button class=\"colab-df-convert\" onclick=\"convertToInteractive('df-de8c4013-84a2-49b6-9420-b7f087d119a3')\"\n",
              "            title=\"Convert this dataframe to an interactive table.\"\n",
              "            style=\"display:none;\">\n",
              "\n",
              "  <svg xmlns=\"http://www.w3.org/2000/svg\" height=\"24px\" viewBox=\"0 -960 960 960\">\n",
              "    <path d=\"M120-120v-720h720v720H120Zm60-500h600v-160H180v160Zm220 220h160v-160H400v160Zm0 220h160v-160H400v160ZM180-400h160v-160H180v160Zm440 0h160v-160H620v160ZM180-180h160v-160H180v160Zm440 0h160v-160H620v160Z\"/>\n",
              "  </svg>\n",
              "    </button>\n",
              "\n",
              "  <style>\n",
              "    .colab-df-container {\n",
              "      display:flex;\n",
              "      gap: 12px;\n",
              "    }\n",
              "\n",
              "    .colab-df-convert {\n",
              "      background-color: #E8F0FE;\n",
              "      border: none;\n",
              "      border-radius: 50%;\n",
              "      cursor: pointer;\n",
              "      display: none;\n",
              "      fill: #1967D2;\n",
              "      height: 32px;\n",
              "      padding: 0 0 0 0;\n",
              "      width: 32px;\n",
              "    }\n",
              "\n",
              "    .colab-df-convert:hover {\n",
              "      background-color: #E2EBFA;\n",
              "      box-shadow: 0px 1px 2px rgba(60, 64, 67, 0.3), 0px 1px 3px 1px rgba(60, 64, 67, 0.15);\n",
              "      fill: #174EA6;\n",
              "    }\n",
              "\n",
              "    .colab-df-buttons div {\n",
              "      margin-bottom: 4px;\n",
              "    }\n",
              "\n",
              "    [theme=dark] .colab-df-convert {\n",
              "      background-color: #3B4455;\n",
              "      fill: #D2E3FC;\n",
              "    }\n",
              "\n",
              "    [theme=dark] .colab-df-convert:hover {\n",
              "      background-color: #434B5C;\n",
              "      box-shadow: 0px 1px 3px 1px rgba(0, 0, 0, 0.15);\n",
              "      filter: drop-shadow(0px 1px 2px rgba(0, 0, 0, 0.3));\n",
              "      fill: #FFFFFF;\n",
              "    }\n",
              "  </style>\n",
              "\n",
              "    <script>\n",
              "      const buttonEl =\n",
              "        document.querySelector('#df-de8c4013-84a2-49b6-9420-b7f087d119a3 button.colab-df-convert');\n",
              "      buttonEl.style.display =\n",
              "        google.colab.kernel.accessAllowed ? 'block' : 'none';\n",
              "\n",
              "      async function convertToInteractive(key) {\n",
              "        const element = document.querySelector('#df-de8c4013-84a2-49b6-9420-b7f087d119a3');\n",
              "        const dataTable =\n",
              "          await google.colab.kernel.invokeFunction('convertToInteractive',\n",
              "                                                    [key], {});\n",
              "        if (!dataTable) return;\n",
              "\n",
              "        const docLinkHtml = 'Like what you see? Visit the ' +\n",
              "          '<a target=\"_blank\" href=https://colab.research.google.com/notebooks/data_table.ipynb>data table notebook</a>'\n",
              "          + ' to learn more about interactive tables.';\n",
              "        element.innerHTML = '';\n",
              "        dataTable['output_type'] = 'display_data';\n",
              "        await google.colab.output.renderOutput(dataTable, element);\n",
              "        const docLink = document.createElement('div');\n",
              "        docLink.innerHTML = docLinkHtml;\n",
              "        element.appendChild(docLink);\n",
              "      }\n",
              "    </script>\n",
              "  </div>\n",
              "\n",
              "\n",
              "<div id=\"df-3d26560b-8044-4e6d-9880-9746ddb899d1\">\n",
              "  <button class=\"colab-df-quickchart\" onclick=\"quickchart('df-3d26560b-8044-4e6d-9880-9746ddb899d1')\"\n",
              "            title=\"Suggest charts\"\n",
              "            style=\"display:none;\">\n",
              "\n",
              "<svg xmlns=\"http://www.w3.org/2000/svg\" height=\"24px\"viewBox=\"0 0 24 24\"\n",
              "     width=\"24px\">\n",
              "    <g>\n",
              "        <path d=\"M19 3H5c-1.1 0-2 .9-2 2v14c0 1.1.9 2 2 2h14c1.1 0 2-.9 2-2V5c0-1.1-.9-2-2-2zM9 17H7v-7h2v7zm4 0h-2V7h2v10zm4 0h-2v-4h2v4z\"/>\n",
              "    </g>\n",
              "</svg>\n",
              "  </button>\n",
              "\n",
              "<style>\n",
              "  .colab-df-quickchart {\n",
              "      --bg-color: #E8F0FE;\n",
              "      --fill-color: #1967D2;\n",
              "      --hover-bg-color: #E2EBFA;\n",
              "      --hover-fill-color: #174EA6;\n",
              "      --disabled-fill-color: #AAA;\n",
              "      --disabled-bg-color: #DDD;\n",
              "  }\n",
              "\n",
              "  [theme=dark] .colab-df-quickchart {\n",
              "      --bg-color: #3B4455;\n",
              "      --fill-color: #D2E3FC;\n",
              "      --hover-bg-color: #434B5C;\n",
              "      --hover-fill-color: #FFFFFF;\n",
              "      --disabled-bg-color: #3B4455;\n",
              "      --disabled-fill-color: #666;\n",
              "  }\n",
              "\n",
              "  .colab-df-quickchart {\n",
              "    background-color: var(--bg-color);\n",
              "    border: none;\n",
              "    border-radius: 50%;\n",
              "    cursor: pointer;\n",
              "    display: none;\n",
              "    fill: var(--fill-color);\n",
              "    height: 32px;\n",
              "    padding: 0;\n",
              "    width: 32px;\n",
              "  }\n",
              "\n",
              "  .colab-df-quickchart:hover {\n",
              "    background-color: var(--hover-bg-color);\n",
              "    box-shadow: 0 1px 2px rgba(60, 64, 67, 0.3), 0 1px 3px 1px rgba(60, 64, 67, 0.15);\n",
              "    fill: var(--button-hover-fill-color);\n",
              "  }\n",
              "\n",
              "  .colab-df-quickchart-complete:disabled,\n",
              "  .colab-df-quickchart-complete:disabled:hover {\n",
              "    background-color: var(--disabled-bg-color);\n",
              "    fill: var(--disabled-fill-color);\n",
              "    box-shadow: none;\n",
              "  }\n",
              "\n",
              "  .colab-df-spinner {\n",
              "    border: 2px solid var(--fill-color);\n",
              "    border-color: transparent;\n",
              "    border-bottom-color: var(--fill-color);\n",
              "    animation:\n",
              "      spin 1s steps(1) infinite;\n",
              "  }\n",
              "\n",
              "  @keyframes spin {\n",
              "    0% {\n",
              "      border-color: transparent;\n",
              "      border-bottom-color: var(--fill-color);\n",
              "      border-left-color: var(--fill-color);\n",
              "    }\n",
              "    20% {\n",
              "      border-color: transparent;\n",
              "      border-left-color: var(--fill-color);\n",
              "      border-top-color: var(--fill-color);\n",
              "    }\n",
              "    30% {\n",
              "      border-color: transparent;\n",
              "      border-left-color: var(--fill-color);\n",
              "      border-top-color: var(--fill-color);\n",
              "      border-right-color: var(--fill-color);\n",
              "    }\n",
              "    40% {\n",
              "      border-color: transparent;\n",
              "      border-right-color: var(--fill-color);\n",
              "      border-top-color: var(--fill-color);\n",
              "    }\n",
              "    60% {\n",
              "      border-color: transparent;\n",
              "      border-right-color: var(--fill-color);\n",
              "    }\n",
              "    80% {\n",
              "      border-color: transparent;\n",
              "      border-right-color: var(--fill-color);\n",
              "      border-bottom-color: var(--fill-color);\n",
              "    }\n",
              "    90% {\n",
              "      border-color: transparent;\n",
              "      border-bottom-color: var(--fill-color);\n",
              "    }\n",
              "  }\n",
              "</style>\n",
              "\n",
              "  <script>\n",
              "    async function quickchart(key) {\n",
              "      const quickchartButtonEl =\n",
              "        document.querySelector('#' + key + ' button');\n",
              "      quickchartButtonEl.disabled = true;  // To prevent multiple clicks.\n",
              "      quickchartButtonEl.classList.add('colab-df-spinner');\n",
              "      try {\n",
              "        const charts = await google.colab.kernel.invokeFunction(\n",
              "            'suggestCharts', [key], {});\n",
              "      } catch (error) {\n",
              "        console.error('Error during call to suggestCharts:', error);\n",
              "      }\n",
              "      quickchartButtonEl.classList.remove('colab-df-spinner');\n",
              "      quickchartButtonEl.classList.add('colab-df-quickchart-complete');\n",
              "    }\n",
              "    (() => {\n",
              "      let quickchartButtonEl =\n",
              "        document.querySelector('#df-3d26560b-8044-4e6d-9880-9746ddb899d1 button');\n",
              "      quickchartButtonEl.style.display =\n",
              "        google.colab.kernel.accessAllowed ? 'block' : 'none';\n",
              "    })();\n",
              "  </script>\n",
              "</div>\n",
              "    </div>\n",
              "  </div>\n"
            ]
          },
          "metadata": {},
          "execution_count": 6
        }
      ],
      "source": [
        "df.sample(1000).head(5)"
      ]
    },
    {
      "cell_type": "markdown",
      "metadata": {
        "id": "4ZMlFmgNJhVx"
      },
      "source": [
        "# Data cleaning and prep"
      ]
    },
    {
      "cell_type": "code",
      "execution_count": 7,
      "metadata": {
        "colab": {
          "base_uri": "https://localhost:8080/"
        },
        "id": "DdMH0xiGRXTa",
        "outputId": "4abd305b-489d-4ccc-a208-b0b8179c0cdb"
      },
      "outputs": [
        {
          "output_type": "stream",
          "name": "stdout",
          "text": [
            "<class 'pandas.core.frame.DataFrame'>\n",
            "Int64Index: 199999 entries, 0 to 199999\n",
            "Data columns (total 9 columns):\n",
            " #   Column             Non-Null Count   Dtype  \n",
            "---  ------             --------------   -----  \n",
            " 0   Unnamed: 0         199999 non-null  int64  \n",
            " 1   key                199999 non-null  object \n",
            " 2   fare_amount        199999 non-null  float64\n",
            " 3   pickup_datetime    199999 non-null  object \n",
            " 4   pickup_longitude   199999 non-null  float64\n",
            " 5   pickup_latitude    199999 non-null  float64\n",
            " 6   dropoff_longitude  199999 non-null  float64\n",
            " 7   dropoff_latitude   199999 non-null  float64\n",
            " 8   passenger_count    199999 non-null  int64  \n",
            "dtypes: float64(5), int64(2), object(2)\n",
            "memory usage: 15.3+ MB\n"
          ]
        }
      ],
      "source": [
        "df = df.dropna()\n",
        "df.info()"
      ]
    },
    {
      "cell_type": "code",
      "execution_count": 8,
      "metadata": {
        "colab": {
          "base_uri": "https://localhost:8080/"
        },
        "id": "A-k2JfcSgYRa",
        "outputId": "c469a05a-fa7c-45a3-9f0b-c5e304e33122"
      },
      "outputs": [
        {
          "output_type": "execute_result",
          "data": {
            "text/plain": [
              "count    199999.000000\n",
              "mean         11.359892\n",
              "std           9.901760\n",
              "min         -52.000000\n",
              "25%           6.000000\n",
              "50%           8.500000\n",
              "75%          12.500000\n",
              "max         499.000000\n",
              "Name: fare_amount, dtype: float64"
            ]
          },
          "metadata": {},
          "execution_count": 8
        }
      ],
      "source": [
        "df['fare_amount'].describe()"
      ]
    },
    {
      "cell_type": "code",
      "execution_count": 9,
      "metadata": {
        "id": "De43hA7jhQpb"
      },
      "outputs": [],
      "source": [
        "#drop outliers\n",
        "Q1 = df['fare_amount'].quantile(0.25)\n",
        "Q3 = df['fare_amount'].quantile(0.75)\n",
        "IQR = Q3-Q1\n",
        "upper_bound = Q3 + 1.5 * IQR\n",
        "\n",
        "df = df[(df['fare_amount'] < upper_bound)]"
      ]
    },
    {
      "cell_type": "code",
      "execution_count": 10,
      "metadata": {
        "colab": {
          "base_uri": "https://localhost:8080/"
        },
        "id": "wdk3lUHHiB8V",
        "outputId": "e011f1ee-5666-4e22-dfc5-c6710c6b68a7"
      },
      "outputs": [
        {
          "output_type": "stream",
          "name": "stdout",
          "text": [
            "<class 'pandas.core.frame.DataFrame'>\n",
            "Int64Index: 182844 entries, 0 to 199999\n",
            "Data columns (total 9 columns):\n",
            " #   Column             Non-Null Count   Dtype  \n",
            "---  ------             --------------   -----  \n",
            " 0   Unnamed: 0         182844 non-null  int64  \n",
            " 1   key                182844 non-null  object \n",
            " 2   fare_amount        182844 non-null  float64\n",
            " 3   pickup_datetime    182844 non-null  object \n",
            " 4   pickup_longitude   182844 non-null  float64\n",
            " 5   pickup_latitude    182844 non-null  float64\n",
            " 6   dropoff_longitude  182844 non-null  float64\n",
            " 7   dropoff_latitude   182844 non-null  float64\n",
            " 8   passenger_count    182844 non-null  int64  \n",
            "dtypes: float64(5), int64(2), object(2)\n",
            "memory usage: 13.9+ MB\n"
          ]
        }
      ],
      "source": [
        "df.info()"
      ]
    },
    {
      "cell_type": "code",
      "execution_count": 11,
      "metadata": {
        "colab": {
          "base_uri": "https://localhost:8080/",
          "height": 300
        },
        "id": "U7wdR9E_p-7a",
        "outputId": "62da8a8f-8acd-4d59-cfa5-0b4a2b3e5b60"
      },
      "outputs": [
        {
          "output_type": "execute_result",
          "data": {
            "text/plain": [
              "         Unnamed: 0    fare_amount  pickup_longitude  pickup_latitude  \\\n",
              "count  1.828440e+05  182844.000000     182844.000000    182844.000000   \n",
              "mean   2.770842e+07       8.938086        -72.545485        39.949196   \n",
              "std    1.600963e+07       4.154328         11.366187         7.799834   \n",
              "min    1.000000e+00     -52.000000      -1340.648410       -74.009697   \n",
              "25%    1.382177e+07       5.700000        -73.992356        40.735718   \n",
              "50%    2.774600e+07       8.000000        -73.982242        40.752542   \n",
              "75%    4.154048e+07      11.000000        -73.969055        40.766500   \n",
              "max    5.542357e+07      22.200000         57.418457      1644.421482   \n",
              "\n",
              "       dropoff_longitude  dropoff_latitude  passenger_count  \n",
              "count      182844.000000     182844.000000    182844.000000  \n",
              "mean          -72.545502         39.936443         1.681504  \n",
              "std            13.293971          6.791340         1.391814  \n",
              "min         -3356.666300       -881.985513         0.000000  \n",
              "25%           -73.991660         40.735287         1.000000  \n",
              "50%           -73.980832         40.753202         1.000000  \n",
              "75%           -73.966670         40.767383         2.000000  \n",
              "max          1153.572603        872.697628       208.000000  "
            ],
            "text/html": [
              "\n",
              "  <div id=\"df-8b5e0ecb-a7ec-41df-85d6-17fd5ea90288\" class=\"colab-df-container\">\n",
              "    <div>\n",
              "<style scoped>\n",
              "    .dataframe tbody tr th:only-of-type {\n",
              "        vertical-align: middle;\n",
              "    }\n",
              "\n",
              "    .dataframe tbody tr th {\n",
              "        vertical-align: top;\n",
              "    }\n",
              "\n",
              "    .dataframe thead th {\n",
              "        text-align: right;\n",
              "    }\n",
              "</style>\n",
              "<table border=\"1\" class=\"dataframe\">\n",
              "  <thead>\n",
              "    <tr style=\"text-align: right;\">\n",
              "      <th></th>\n",
              "      <th>Unnamed: 0</th>\n",
              "      <th>fare_amount</th>\n",
              "      <th>pickup_longitude</th>\n",
              "      <th>pickup_latitude</th>\n",
              "      <th>dropoff_longitude</th>\n",
              "      <th>dropoff_latitude</th>\n",
              "      <th>passenger_count</th>\n",
              "    </tr>\n",
              "  </thead>\n",
              "  <tbody>\n",
              "    <tr>\n",
              "      <th>count</th>\n",
              "      <td>1.828440e+05</td>\n",
              "      <td>182844.000000</td>\n",
              "      <td>182844.000000</td>\n",
              "      <td>182844.000000</td>\n",
              "      <td>182844.000000</td>\n",
              "      <td>182844.000000</td>\n",
              "      <td>182844.000000</td>\n",
              "    </tr>\n",
              "    <tr>\n",
              "      <th>mean</th>\n",
              "      <td>2.770842e+07</td>\n",
              "      <td>8.938086</td>\n",
              "      <td>-72.545485</td>\n",
              "      <td>39.949196</td>\n",
              "      <td>-72.545502</td>\n",
              "      <td>39.936443</td>\n",
              "      <td>1.681504</td>\n",
              "    </tr>\n",
              "    <tr>\n",
              "      <th>std</th>\n",
              "      <td>1.600963e+07</td>\n",
              "      <td>4.154328</td>\n",
              "      <td>11.366187</td>\n",
              "      <td>7.799834</td>\n",
              "      <td>13.293971</td>\n",
              "      <td>6.791340</td>\n",
              "      <td>1.391814</td>\n",
              "    </tr>\n",
              "    <tr>\n",
              "      <th>min</th>\n",
              "      <td>1.000000e+00</td>\n",
              "      <td>-52.000000</td>\n",
              "      <td>-1340.648410</td>\n",
              "      <td>-74.009697</td>\n",
              "      <td>-3356.666300</td>\n",
              "      <td>-881.985513</td>\n",
              "      <td>0.000000</td>\n",
              "    </tr>\n",
              "    <tr>\n",
              "      <th>25%</th>\n",
              "      <td>1.382177e+07</td>\n",
              "      <td>5.700000</td>\n",
              "      <td>-73.992356</td>\n",
              "      <td>40.735718</td>\n",
              "      <td>-73.991660</td>\n",
              "      <td>40.735287</td>\n",
              "      <td>1.000000</td>\n",
              "    </tr>\n",
              "    <tr>\n",
              "      <th>50%</th>\n",
              "      <td>2.774600e+07</td>\n",
              "      <td>8.000000</td>\n",
              "      <td>-73.982242</td>\n",
              "      <td>40.752542</td>\n",
              "      <td>-73.980832</td>\n",
              "      <td>40.753202</td>\n",
              "      <td>1.000000</td>\n",
              "    </tr>\n",
              "    <tr>\n",
              "      <th>75%</th>\n",
              "      <td>4.154048e+07</td>\n",
              "      <td>11.000000</td>\n",
              "      <td>-73.969055</td>\n",
              "      <td>40.766500</td>\n",
              "      <td>-73.966670</td>\n",
              "      <td>40.767383</td>\n",
              "      <td>2.000000</td>\n",
              "    </tr>\n",
              "    <tr>\n",
              "      <th>max</th>\n",
              "      <td>5.542357e+07</td>\n",
              "      <td>22.200000</td>\n",
              "      <td>57.418457</td>\n",
              "      <td>1644.421482</td>\n",
              "      <td>1153.572603</td>\n",
              "      <td>872.697628</td>\n",
              "      <td>208.000000</td>\n",
              "    </tr>\n",
              "  </tbody>\n",
              "</table>\n",
              "</div>\n",
              "    <div class=\"colab-df-buttons\">\n",
              "\n",
              "  <div class=\"colab-df-container\">\n",
              "    <button class=\"colab-df-convert\" onclick=\"convertToInteractive('df-8b5e0ecb-a7ec-41df-85d6-17fd5ea90288')\"\n",
              "            title=\"Convert this dataframe to an interactive table.\"\n",
              "            style=\"display:none;\">\n",
              "\n",
              "  <svg xmlns=\"http://www.w3.org/2000/svg\" height=\"24px\" viewBox=\"0 -960 960 960\">\n",
              "    <path d=\"M120-120v-720h720v720H120Zm60-500h600v-160H180v160Zm220 220h160v-160H400v160Zm0 220h160v-160H400v160ZM180-400h160v-160H180v160Zm440 0h160v-160H620v160ZM180-180h160v-160H180v160Zm440 0h160v-160H620v160Z\"/>\n",
              "  </svg>\n",
              "    </button>\n",
              "\n",
              "  <style>\n",
              "    .colab-df-container {\n",
              "      display:flex;\n",
              "      gap: 12px;\n",
              "    }\n",
              "\n",
              "    .colab-df-convert {\n",
              "      background-color: #E8F0FE;\n",
              "      border: none;\n",
              "      border-radius: 50%;\n",
              "      cursor: pointer;\n",
              "      display: none;\n",
              "      fill: #1967D2;\n",
              "      height: 32px;\n",
              "      padding: 0 0 0 0;\n",
              "      width: 32px;\n",
              "    }\n",
              "\n",
              "    .colab-df-convert:hover {\n",
              "      background-color: #E2EBFA;\n",
              "      box-shadow: 0px 1px 2px rgba(60, 64, 67, 0.3), 0px 1px 3px 1px rgba(60, 64, 67, 0.15);\n",
              "      fill: #174EA6;\n",
              "    }\n",
              "\n",
              "    .colab-df-buttons div {\n",
              "      margin-bottom: 4px;\n",
              "    }\n",
              "\n",
              "    [theme=dark] .colab-df-convert {\n",
              "      background-color: #3B4455;\n",
              "      fill: #D2E3FC;\n",
              "    }\n",
              "\n",
              "    [theme=dark] .colab-df-convert:hover {\n",
              "      background-color: #434B5C;\n",
              "      box-shadow: 0px 1px 3px 1px rgba(0, 0, 0, 0.15);\n",
              "      filter: drop-shadow(0px 1px 2px rgba(0, 0, 0, 0.3));\n",
              "      fill: #FFFFFF;\n",
              "    }\n",
              "  </style>\n",
              "\n",
              "    <script>\n",
              "      const buttonEl =\n",
              "        document.querySelector('#df-8b5e0ecb-a7ec-41df-85d6-17fd5ea90288 button.colab-df-convert');\n",
              "      buttonEl.style.display =\n",
              "        google.colab.kernel.accessAllowed ? 'block' : 'none';\n",
              "\n",
              "      async function convertToInteractive(key) {\n",
              "        const element = document.querySelector('#df-8b5e0ecb-a7ec-41df-85d6-17fd5ea90288');\n",
              "        const dataTable =\n",
              "          await google.colab.kernel.invokeFunction('convertToInteractive',\n",
              "                                                    [key], {});\n",
              "        if (!dataTable) return;\n",
              "\n",
              "        const docLinkHtml = 'Like what you see? Visit the ' +\n",
              "          '<a target=\"_blank\" href=https://colab.research.google.com/notebooks/data_table.ipynb>data table notebook</a>'\n",
              "          + ' to learn more about interactive tables.';\n",
              "        element.innerHTML = '';\n",
              "        dataTable['output_type'] = 'display_data';\n",
              "        await google.colab.output.renderOutput(dataTable, element);\n",
              "        const docLink = document.createElement('div');\n",
              "        docLink.innerHTML = docLinkHtml;\n",
              "        element.appendChild(docLink);\n",
              "      }\n",
              "    </script>\n",
              "  </div>\n",
              "\n",
              "\n",
              "<div id=\"df-41784c74-73cb-4f85-a7bc-949b3b62e118\">\n",
              "  <button class=\"colab-df-quickchart\" onclick=\"quickchart('df-41784c74-73cb-4f85-a7bc-949b3b62e118')\"\n",
              "            title=\"Suggest charts\"\n",
              "            style=\"display:none;\">\n",
              "\n",
              "<svg xmlns=\"http://www.w3.org/2000/svg\" height=\"24px\"viewBox=\"0 0 24 24\"\n",
              "     width=\"24px\">\n",
              "    <g>\n",
              "        <path d=\"M19 3H5c-1.1 0-2 .9-2 2v14c0 1.1.9 2 2 2h14c1.1 0 2-.9 2-2V5c0-1.1-.9-2-2-2zM9 17H7v-7h2v7zm4 0h-2V7h2v10zm4 0h-2v-4h2v4z\"/>\n",
              "    </g>\n",
              "</svg>\n",
              "  </button>\n",
              "\n",
              "<style>\n",
              "  .colab-df-quickchart {\n",
              "      --bg-color: #E8F0FE;\n",
              "      --fill-color: #1967D2;\n",
              "      --hover-bg-color: #E2EBFA;\n",
              "      --hover-fill-color: #174EA6;\n",
              "      --disabled-fill-color: #AAA;\n",
              "      --disabled-bg-color: #DDD;\n",
              "  }\n",
              "\n",
              "  [theme=dark] .colab-df-quickchart {\n",
              "      --bg-color: #3B4455;\n",
              "      --fill-color: #D2E3FC;\n",
              "      --hover-bg-color: #434B5C;\n",
              "      --hover-fill-color: #FFFFFF;\n",
              "      --disabled-bg-color: #3B4455;\n",
              "      --disabled-fill-color: #666;\n",
              "  }\n",
              "\n",
              "  .colab-df-quickchart {\n",
              "    background-color: var(--bg-color);\n",
              "    border: none;\n",
              "    border-radius: 50%;\n",
              "    cursor: pointer;\n",
              "    display: none;\n",
              "    fill: var(--fill-color);\n",
              "    height: 32px;\n",
              "    padding: 0;\n",
              "    width: 32px;\n",
              "  }\n",
              "\n",
              "  .colab-df-quickchart:hover {\n",
              "    background-color: var(--hover-bg-color);\n",
              "    box-shadow: 0 1px 2px rgba(60, 64, 67, 0.3), 0 1px 3px 1px rgba(60, 64, 67, 0.15);\n",
              "    fill: var(--button-hover-fill-color);\n",
              "  }\n",
              "\n",
              "  .colab-df-quickchart-complete:disabled,\n",
              "  .colab-df-quickchart-complete:disabled:hover {\n",
              "    background-color: var(--disabled-bg-color);\n",
              "    fill: var(--disabled-fill-color);\n",
              "    box-shadow: none;\n",
              "  }\n",
              "\n",
              "  .colab-df-spinner {\n",
              "    border: 2px solid var(--fill-color);\n",
              "    border-color: transparent;\n",
              "    border-bottom-color: var(--fill-color);\n",
              "    animation:\n",
              "      spin 1s steps(1) infinite;\n",
              "  }\n",
              "\n",
              "  @keyframes spin {\n",
              "    0% {\n",
              "      border-color: transparent;\n",
              "      border-bottom-color: var(--fill-color);\n",
              "      border-left-color: var(--fill-color);\n",
              "    }\n",
              "    20% {\n",
              "      border-color: transparent;\n",
              "      border-left-color: var(--fill-color);\n",
              "      border-top-color: var(--fill-color);\n",
              "    }\n",
              "    30% {\n",
              "      border-color: transparent;\n",
              "      border-left-color: var(--fill-color);\n",
              "      border-top-color: var(--fill-color);\n",
              "      border-right-color: var(--fill-color);\n",
              "    }\n",
              "    40% {\n",
              "      border-color: transparent;\n",
              "      border-right-color: var(--fill-color);\n",
              "      border-top-color: var(--fill-color);\n",
              "    }\n",
              "    60% {\n",
              "      border-color: transparent;\n",
              "      border-right-color: var(--fill-color);\n",
              "    }\n",
              "    80% {\n",
              "      border-color: transparent;\n",
              "      border-right-color: var(--fill-color);\n",
              "      border-bottom-color: var(--fill-color);\n",
              "    }\n",
              "    90% {\n",
              "      border-color: transparent;\n",
              "      border-bottom-color: var(--fill-color);\n",
              "    }\n",
              "  }\n",
              "</style>\n",
              "\n",
              "  <script>\n",
              "    async function quickchart(key) {\n",
              "      const quickchartButtonEl =\n",
              "        document.querySelector('#' + key + ' button');\n",
              "      quickchartButtonEl.disabled = true;  // To prevent multiple clicks.\n",
              "      quickchartButtonEl.classList.add('colab-df-spinner');\n",
              "      try {\n",
              "        const charts = await google.colab.kernel.invokeFunction(\n",
              "            'suggestCharts', [key], {});\n",
              "      } catch (error) {\n",
              "        console.error('Error during call to suggestCharts:', error);\n",
              "      }\n",
              "      quickchartButtonEl.classList.remove('colab-df-spinner');\n",
              "      quickchartButtonEl.classList.add('colab-df-quickchart-complete');\n",
              "    }\n",
              "    (() => {\n",
              "      let quickchartButtonEl =\n",
              "        document.querySelector('#df-41784c74-73cb-4f85-a7bc-949b3b62e118 button');\n",
              "      quickchartButtonEl.style.display =\n",
              "        google.colab.kernel.accessAllowed ? 'block' : 'none';\n",
              "    })();\n",
              "  </script>\n",
              "</div>\n",
              "    </div>\n",
              "  </div>\n"
            ]
          },
          "metadata": {},
          "execution_count": 11
        }
      ],
      "source": [
        "df.describe()"
      ]
    },
    {
      "cell_type": "code",
      "execution_count": 12,
      "metadata": {
        "id": "4-LOzEw0psCO"
      },
      "outputs": [],
      "source": [
        "#drop columns where coordinates are invalid\n",
        "cond1 = ((df.pickup_longitude >= -180) & (df.pickup_longitude <= 180)) & ((df.dropoff_longitude >= -180) & (df.dropoff_longitude <= 180))\n",
        "cond2 = ((df.pickup_latitude >= -90) & (df.pickup_latitude <= 90)) & ((df.dropoff_latitude >= -90) & (df.dropoff_latitude <= 90))\n",
        "df = df[(cond1 & cond2)]"
      ]
    },
    {
      "cell_type": "code",
      "execution_count": 13,
      "metadata": {
        "id": "BSFoX-oDoS2F"
      },
      "outputs": [],
      "source": [
        "#feature transformation\n",
        "def haversine_distance(row):\n",
        "    coords_1 = (row['pickup_latitude'], row['pickup_longitude'])\n",
        "    coords_2 = (row['dropoff_latitude'], row['dropoff_longitude'])\n",
        "    return haversine(coords_1, coords_2, unit=Unit.KILOMETERS)\n",
        "\n",
        "\n",
        "df['distance_traveled'] = df.apply(haversine_distance, axis=1)"
      ]
    },
    {
      "cell_type": "code",
      "execution_count": 14,
      "metadata": {
        "id": "96AiNEyIihCd"
      },
      "outputs": [],
      "source": [
        "#drop distance outliers\n",
        "Q1 = df['distance_traveled'].quantile(0.25)\n",
        "Q3 = df['distance_traveled'].quantile(0.75)\n",
        "IQR = Q3-Q1\n",
        "upper_bound = Q3 + 1.5 * IQR\n",
        "\n",
        "df = df[(df['distance_traveled'] < upper_bound)]"
      ]
    },
    {
      "cell_type": "code",
      "execution_count": 15,
      "metadata": {
        "id": "lBILpeCgNrFa"
      },
      "outputs": [],
      "source": [
        "#dropping rows where distance is 0\n",
        "df = df[(df['distance_traveled'] != 0)]"
      ]
    },
    {
      "cell_type": "code",
      "execution_count": 16,
      "metadata": {
        "colab": {
          "base_uri": "https://localhost:8080/",
          "height": 447
        },
        "id": "KdW7g37nqY41",
        "outputId": "58a96a79-d290-4bfa-96a6-f4fde282ef8b"
      },
      "outputs": [
        {
          "output_type": "execute_result",
          "data": {
            "text/plain": [
              "<Axes: >"
            ]
          },
          "metadata": {},
          "execution_count": 16
        },
        {
          "output_type": "display_data",
          "data": {
            "text/plain": [
              "<Figure size 640x480 with 1 Axes>"
            ],
            "image/png": "[encoded data removed]"
          },
          "metadata": {}
        }
      ],
      "source": [
        "df['distance_traveled'].hist(bins = 40)"
      ]
    },
    {
      "cell_type": "code",
      "execution_count": 17,
      "metadata": {
        "colab": {
          "base_uri": "https://localhost:8080/"
        },
        "id": "TzD0fvO3qb-W",
        "outputId": "e7d8fadc-6bf9-4650-f54a-f2803b1e2ea3"
      },
      "outputs": [
        {
          "output_type": "stream",
          "name": "stdout",
          "text": [
            "                   Unnamed: 0  fare_amount  pickup_longitude  pickup_latitude  \\\n",
            "Unnamed: 0           1.000000    -0.001879          0.001589        -0.001934   \n",
            "fare_amount         -0.001879     1.000000          0.002575        -0.003409   \n",
            "pickup_longitude     0.001589     0.002575          1.000000        -0.993511   \n",
            "pickup_latitude     -0.001934    -0.003409         -0.993511         1.000000   \n",
            "dropoff_longitude    0.001613     0.003004          0.999976        -0.993524   \n",
            "dropoff_latitude    -0.001948    -0.003764         -0.993516         0.999968   \n",
            "passenger_count      0.003143     0.017017          0.009062        -0.009319   \n",
            "distance_traveled   -0.002048     0.793308         -0.013741         0.012116   \n",
            "\n",
            "                   dropoff_longitude  dropoff_latitude  passenger_count  \\\n",
            "Unnamed: 0                  0.001613         -0.001948         0.003143   \n",
            "fare_amount                 0.003004         -0.003764         0.017017   \n",
            "pickup_longitude            0.999976         -0.993516         0.009062   \n",
            "pickup_latitude            -0.993524          0.999968        -0.009319   \n",
            "dropoff_longitude           1.000000         -0.993502         0.009068   \n",
            "dropoff_latitude           -0.993502          1.000000        -0.009313   \n",
            "passenger_count             0.009068         -0.009313         1.000000   \n",
            "distance_traveled          -0.013059          0.012119         0.004354   \n",
            "\n",
            "                   distance_traveled  \n",
            "Unnamed: 0                 -0.002048  \n",
            "fare_amount                 0.793308  \n",
            "pickup_longitude           -0.013741  \n",
            "pickup_latitude             0.012116  \n",
            "dropoff_longitude          -0.013059  \n",
            "dropoff_latitude            0.012119  \n",
            "passenger_count             0.004354  \n",
            "distance_traveled           1.000000  \n"
          ]
        },
        {
          "output_type": "stream",
          "name": "stderr",
          "text": [
            "<ipython-input-17-23236a4e6045>:1: FutureWarning: The default value of numeric_only in DataFrame.corr is deprecated. In a future version, it will default to False. Select only valid columns or specify the value of numeric_only to silence this warning.\n",
            "  print(df.corr())\n"
          ]
        }
      ],
      "source": [
        "print(df.corr())"
      ]
    },
    {
      "cell_type": "code",
      "execution_count": 18,
      "metadata": {
        "id": "89Sa7tA2gfAF"
      },
      "outputs": [],
      "source": [
        "df['pickup_datetime']=pd.to_datetime(df['pickup_datetime'])\n",
        "df['month']=df['pickup_datetime'].dt.month\n",
        "df['hour']=df['pickup_datetime'].dt.hour"
      ]
    },
    {
      "cell_type": "code",
      "execution_count": 19,
      "metadata": {
        "colab": {
          "base_uri": "https://localhost:8080/"
        },
        "id": "H4d-z7Tl-TfP",
        "outputId": "ef1015bc-17bd-4562-d67a-722c130a6c8d"
      },
      "outputs": [
        {
          "output_type": "stream",
          "name": "stdout",
          "text": [
            "Unnamed: 0                         int64\n",
            "key                               object\n",
            "fare_amount                      float64\n",
            "pickup_datetime      datetime64[ns, UTC]\n",
            "pickup_longitude                 float64\n",
            "pickup_latitude                  float64\n",
            "dropoff_longitude                float64\n",
            "dropoff_latitude                 float64\n",
            "passenger_count                    int64\n",
            "distance_traveled                float64\n",
            "month                              int64\n",
            "hour                               int64\n",
            "dtype: object\n"
          ]
        }
      ],
      "source": [
        "print(df.dtypes)"
      ]
    },
    {
      "cell_type": "code",
      "execution_count": 20,
      "metadata": {
        "id": "V_CeFSNJ98uM"
      },
      "outputs": [],
      "source": [
        "df.drop(['Unnamed: 0','key','pickup_datetime','pickup_longitude','pickup_latitude','dropoff_longitude','dropoff_latitude'], axis = 1, inplace = True)"
      ]
    },
    {
      "cell_type": "code",
      "execution_count": 21,
      "metadata": {
        "colab": {
          "base_uri": "https://localhost:8080/",
          "height": 682
        },
        "id": "axfVSaI12DfF",
        "outputId": "afe3fb66-0003-48f7-c74f-0e733c0e2226"
      },
      "outputs": [
        {
          "output_type": "display_data",
          "data": {
            "text/plain": [
              "<Figure size 1000x800 with 2 Axes>"
            ],
            "image/png": "[encoded data removed]"
          },
          "metadata": {}
        }
      ],
      "source": [
        "\n",
        "correlation_matrix = df.corr()\n",
        "plt.figure(figsize=(10, 8))\n",
        "sns.heatmap(correlation_matrix, annot=True, cmap='coolwarm', fmt=\".2f\", vmin=0.5)\n",
        "plt.show()"
      ]
    },
    {
      "cell_type": "code",
      "execution_count": 22,
      "metadata": {
        "id": "yVpxkwqu2FLr"
      },
      "outputs": [],
      "source": [
        "\n",
        "df['month'] = df['month'].astype(str)\n",
        "df['hour'] = df['hour'].astype(str)\n",
        "\n",
        "\n",
        "df_encoded = pd.get_dummies(df, columns=['month', 'hour'])\n"
      ]
    },
    {
      "cell_type": "code",
      "execution_count": 23,
      "metadata": {
        "colab": {
          "base_uri": "https://localhost:8080/"
        },
        "id": "xRcEFOF05Fgv",
        "outputId": "28009b69-ba5d-4e21-8b90-c84c79e6b416"
      },
      "outputs": [
        {
          "output_type": "stream",
          "name": "stdout",
          "text": [
            "<class 'pandas.core.frame.DataFrame'>\n",
            "Int64Index: 169414 entries, 0 to 199999\n",
            "Data columns (total 39 columns):\n",
            " #   Column             Non-Null Count   Dtype  \n",
            "---  ------             --------------   -----  \n",
            " 0   fare_amount        169414 non-null  float64\n",
            " 1   passenger_count    169414 non-null  int64  \n",
            " 2   distance_traveled  169414 non-null  float64\n",
            " 3   month_1            169414 non-null  uint8  \n",
            " 4   month_10           169414 non-null  uint8  \n",
            " 5   month_11           169414 non-null  uint8  \n",
            " 6   month_12           169414 non-null  uint8  \n",
            " 7   month_2            169414 non-null  uint8  \n",
            " 8   month_3            169414 non-null  uint8  \n",
            " 9   month_4            169414 non-null  uint8  \n",
            " 10  month_5            169414 non-null  uint8  \n",
            " 11  month_6            169414 non-null  uint8  \n",
            " 12  month_7            169414 non-null  uint8  \n",
            " 13  month_8            169414 non-null  uint8  \n",
            " 14  month_9            169414 non-null  uint8  \n",
            " 15  hour_0             169414 non-null  uint8  \n",
            " 16  hour_1             169414 non-null  uint8  \n",
            " 17  hour_10            169414 non-null  uint8  \n",
            " 18  hour_11            169414 non-null  uint8  \n",
            " 19  hour_12            169414 non-null  uint8  \n",
            " 20  hour_13            169414 non-null  uint8  \n",
            " 21  hour_14            169414 non-null  uint8  \n",
            " 22  hour_15            169414 non-null  uint8  \n",
            " 23  hour_16            169414 non-null  uint8  \n",
            " 24  hour_17            169414 non-null  uint8  \n",
            " 25  hour_18            169414 non-null  uint8  \n",
            " 26  hour_19            169414 non-null  uint8  \n",
            " 27  hour_2             169414 non-null  uint8  \n",
            " 28  hour_20            169414 non-null  uint8  \n",
            " 29  hour_21            169414 non-null  uint8  \n",
            " 30  hour_22            169414 non-null  uint8  \n",
            " 31  hour_23            169414 non-null  uint8  \n",
            " 32  hour_3             169414 non-null  uint8  \n",
            " 33  hour_4             169414 non-null  uint8  \n",
            " 34  hour_5             169414 non-null  uint8  \n",
            " 35  hour_6             169414 non-null  uint8  \n",
            " 36  hour_7             169414 non-null  uint8  \n",
            " 37  hour_8             169414 non-null  uint8  \n",
            " 38  hour_9             169414 non-null  uint8  \n",
            "dtypes: float64(2), int64(1), uint8(36)\n",
            "memory usage: 11.0 MB\n"
          ]
        }
      ],
      "source": [
        "df_encoded.info()"
      ]
    },
    {
      "cell_type": "markdown",
      "metadata": {
        "id": "bfmjHKoAR3Wf"
      },
      "source": [
        "# Building Model"
      ]
    },
    {
      "cell_type": "code",
      "execution_count": 30,
      "metadata": {
        "colab": {
          "base_uri": "https://localhost:8080/"
        },
        "id": "Rt7_oH042_Rf",
        "outputId": "2a62eff7-55d2-4630-fa3b-36e0430ff341"
      },
      "outputs": [
        {
          "output_type": "stream",
          "name": "stdout",
          "text": [
            "Mean Squared Error: 4.963550768048581\n",
            "R-squared: 0.6458263665217735\n"
          ]
        }
      ],
      "source": [
        "from sklearn.model_selection import train_test_split\n",
        "from sklearn.linear_model import LinearRegression\n",
        "from sklearn.metrics import mean_squared_error, r2_score\n",
        "from sklearn.preprocessing import StandardScaler\n",
        "\n",
        "\n",
        "X = df_encoded.drop('fare_amount', axis=1)\n",
        "y = df_encoded['fare_amount']\n",
        "\n",
        "\n",
        "X_train, X_test, y_train, y_test = train_test_split(X, y, test_size=0.2, random_state=42)\n",
        "\n",
        "\n",
        "scaler = StandardScaler()\n",
        "X_train_scaled = scaler.fit_transform(X_train)\n",
        "X_test_scaled = scaler.transform(X_test)\n",
        "\n",
        "model = LinearRegression()\n",
        "model.fit(X_train_scaled, y_train)\n",
        "y_pred = model.predict(X_test_scaled)\n",
        "\n",
        "\n",
        "mse = mean_squared_error(y_test, y_pred)\n",
        "r2 = r2_score(y_test, y_pred)\n",
        "\n",
        "print(f'Mean Squared Error: {mse}')\n",
        "print(f'R-squared: {r2}')"
      ]
    },
    {
      "cell_type": "code",
      "execution_count": 31,
      "metadata": {
        "colab": {
          "base_uri": "https://localhost:8080/"
        },
        "id": "blIUdKD34Vvm",
        "outputId": "8ab19189-87cb-4b6b-ab72-6b7ef5eeb846"
      },
      "outputs": [
        {
          "output_type": "stream",
          "name": "stdout",
          "text": [
            "Accuracy within 2 units: 74.11%\n"
          ]
        }
      ],
      "source": [
        "\n",
        "tolerance = 2\n",
        "\n",
        "within_tolerance = sum(abs(y_pred - y_test) <= tolerance)\n",
        "accuracy = within_tolerance / len(y_test)\n",
        "\n",
        "print(f'Accuracy within {tolerance} units: {accuracy * 100:.2f}%')\n"
      ]
    },
    {
      "cell_type": "markdown",
      "metadata": {
        "id": "Csc-xVexSR-f"
      },
      "source": [
        "# Applying Model"
      ]
    },
    {
      "cell_type": "code",
      "execution_count": 32,
      "metadata": {
        "id": "-PfhYgJAJCjq"
      },
      "outputs": [],
      "source": [
        "def uberrideprediction(distance, passengers, pickupdatetime, model, scaler, df_train):\n",
        "    input_data = pd.DataFrame({\n",
        "        'distance': [distance],\n",
        "        'passengers': [passengers],\n",
        "        'pickup_datetime': [pickupdatetime]\n",
        "    })\n",
        "    input_data['pickup_datetime'] = pd.to_datetime(input_data['pickup_datetime'])\n",
        "    input_data['month'] = input_data['pickup_datetime'].dt.month\n",
        "    input_data['hour'] = input_data['pickup_datetime'].dt.hour\n",
        "    input_encoded = pd.get_dummies(input_data.drop('pickup_datetime', axis=1), columns=['month', 'hour'])\n",
        "    input_encoded = input_encoded.reindex(columns=df_train.columns, fill_value=0)\n",
        "    input_scaled = scaler.transform(input_encoded)\n",
        "    fare_prediction = model.predict(input_scaled)\n",
        "    return fare_prediction[0]\n"
      ]
    },
    {
      "cell_type": "code",
      "execution_count": 33,
      "metadata": {
        "colab": {
          "base_uri": "https://localhost:8080/"
        },
        "id": "Alyvbo_sL-iL",
        "outputId": "34fb0254-bde5-4bbf-c0f5-a84ee46cebc9"
      },
      "outputs": [
        {
          "output_type": "stream",
          "name": "stdout",
          "text": [
            " distance: 2\n",
            "number of passengers: 2\n",
            "time : 2022-09-1 04:09:00 UTC\n",
            "Estimated fare is: 3.143680268072803\n"
          ]
        }
      ],
      "source": [
        "distance = float(input(\" distance: \"))\n",
        "passengers = int(input(\"number of passengers: \"))\n",
        "pickup_datetime = input(\"time : \")\n",
        "\n",
        "fare_estimate = uberrideprediction(distance, passengers, pickup_datetime, model, scaler, X_train)\n",
        "print(\"Estimated fare is:\", fare_estimate)\n"
      ]
    },
    {
      "cell_type": "markdown",
      "metadata": {
        "id": "F4X619sEB2te"
      },
      "source": []
    }
  ],
  "metadata": {
    "colab": {
      "provenance": []
    },
    "kernelspec": {
      "display_name": "Python 3 (ipykernel)",
      "language": "python",
      "name": "python3"
    },
    "language_info": {
      "codemirror_mode": {
        "name": "ipython",
        "version": 3
      },
      "file_extension": ".py",
      "mimetype": "text/x-python",
      "name": "python",
      "nbconvert_exporter": "python",
      "pygments_lexer": "ipython3",
      "version": "3.10.2"
    }
  },
  "nbformat": 4,
  "nbformat_minor": 0
}